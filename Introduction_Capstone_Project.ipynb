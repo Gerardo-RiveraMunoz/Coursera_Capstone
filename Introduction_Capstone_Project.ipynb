{
 "cells": [
  {
   "cell_type": "markdown",
   "metadata": {
    "collapsed": true
   },
   "source": [
    "# INTRODUCTION"
   ]
  },
  {
   "cell_type": "markdown",
   "metadata": {},
   "source": [
    "Deciding where to place its headquarters is a significant and important decision for any company no matter its size, of course, the bigger the company, the larger, complex and lengthy the problem become.\n",
    "\n",
    "For this project we will assume that we are part of the Data Science team from a very big overseas Corporation that has decided to open its US Headquarters in New York City. The Board of Directors of this Company now wants to define the precise location for them. \n",
    "\n",
    "Needless to say, there is a lot to review in this process: legal, logistical, environmental aspects; budgets; timelines, etc. so several departments within the company will be involved. However, all of those will be out of the scope of this project, instead we will focus on getting the insights of New York City neighborhoods that better match the criteria defined by the Board in order to serve optimally the company operations and get the best possible living standards and quality of life for their future employees.\n",
    "\n",
    "This project will help the Data Science team provide to the Board with a list of neighborhoods that better fit basic criteria, regarding living standards for employees and everyday headquarters operations.\n",
    "\n",
    "Some criteria the neighborhood must comply with:\n",
    "Must be commercial area, as neighbors in pure residential areas can be negatively affected.\n",
    "High density of hotels nearby for the overnight staying of overseas employees, vendors, visitors, corporate meetings, etc.\n",
    "Good number of coffee shops, restaurants and entertainment venues for employees quality of life.\n",
    "\n",
    "Notes: \n",
    "\n",
    "The target audience for this project is the Board of Directors of the Corporation, since we must provide a report to them with the findigs of our analysis.\n",
    "\n",
    "The goal of this project will be to come up with a list of neighborhoods, not a final one. Further and specific analysis must be done to get one, and that is not possible with a free-limited Foursquare account (Can't get over 100 venues & can't get details of the venues).\n",
    "\n",
    "\n",
    "\n"
   ]
  }
 ],
 "metadata": {
  "kernelspec": {
   "display_name": "Python 3.6",
   "language": "python",
   "name": "python3"
  },
  "language_info": {
   "codemirror_mode": {
    "name": "ipython",
    "version": 3
   },
   "file_extension": ".py",
   "mimetype": "text/x-python",
   "name": "python",
   "nbconvert_exporter": "python",
   "pygments_lexer": "ipython3",
   "version": "3.6.9"
  }
 },
 "nbformat": 4,
 "nbformat_minor": 1
}
