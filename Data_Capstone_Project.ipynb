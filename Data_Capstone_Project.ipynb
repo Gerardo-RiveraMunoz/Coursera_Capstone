{
 "cells": [
  {
   "cell_type": "markdown",
   "metadata": {
    "collapsed": true
   },
   "source": [
    "# DATA"
   ]
  },
  {
   "cell_type": "markdown",
   "metadata": {},
   "source": [
    "For this project we will need to explore, segment and cluster the 5 Boroughs and 306 Neighborhoods of New York City. There is a free dataset on the web that contains the geospatial location of each borough and neighborhoods, i.e. latitude and longitude coordinates of their centroids. The link to this dataset is: https://geo.nyu.edu/catalog/nyu_2451_34572\n",
    "\n",
    "We will use these coordinates to extract venue information from the Foursquare API, using a free-personal account.\n",
    "\n",
    "We will find out what are the most common venues in a selected, filtered list of neighborhoods and cluster them according to their similarities (we'll call them TOP neighborhoods).\n"
   ]
  }
 ],
 "metadata": {
  "kernelspec": {
   "display_name": "Python 3.6",
   "language": "python",
   "name": "python3"
  },
  "language_info": {
   "codemirror_mode": {
    "name": "ipython",
    "version": 3
   },
   "file_extension": ".py",
   "mimetype": "text/x-python",
   "name": "python",
   "nbconvert_exporter": "python",
   "pygments_lexer": "ipython3",
   "version": "3.6.9"
  }
 },
 "nbformat": 4,
 "nbformat_minor": 1
}
