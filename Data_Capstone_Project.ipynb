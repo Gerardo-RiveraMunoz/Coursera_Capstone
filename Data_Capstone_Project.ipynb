{
 "cells": [
  {
   "cell_type": "markdown",
   "metadata": {
    "collapsed": true
   },
   "source": [
    "# DATA"
   ]
  },
  {
   "cell_type": "markdown",
   "metadata": {},
   "source": [
    "For this project we will need to explore, segment and cluster the 5 Boroughs and 306 Neighborhoods of New York City. There is a free dataset on the web that contains the geospatial location of each borough and neighborhoods, i.e. latitude and longitude coordinates of their centroids. The link to this dataset is: https://geo.nyu.edu/catalog/nyu_2451_34572\n",
    "The format of the dataset is like the folowing example:\n",
    "\n",
    " \tBorough Neighborhood Latitude \t Longitude\n",
    "0 \tBronx \tWakefield \t40.894705 \t-73.847201\n",
    "1 \tBronx \tCo-op City \t40.874294 \t-73.829939\n",
    "2 \tBronx \tEastchester 40.887556 \t-73.827806\n",
    "3 \tBronx \tFieldston \t40.895437 \t-73.905643\n",
    "4 \tBronx \tRiverdale \t40.890834 \t-73.912585\n",
    "\n",
    "We'll use these coordinates to extract venue information from the Foursquare API, using a free-personal account. We'll find out what are the most common venues in a selected, filtered list of neighborhoods and cluster them according to their similarities (we'll call them TOP neighborhoods).\n",
    "\n",
    "The dataframe for the most common venues of a neighborhood is going to look like this:\n",
    "\n",
    "Neighborhood \tCluster Labels \t1st Most Common Venue \t    2nd Most Common Venue \t3rd Most Common Venue \t\n",
    "Astoria \t        1 \t        Middle Eastern Restaurant \tBar \t                Hookah Bar \t\n",
    "Jackson Heights \t1 \t        Latin American Restaurant \tPeruvian Restaurant \tSouth American Restaurant \t\n"
   ]
  }
 ],
 "metadata": {
  "kernelspec": {
   "display_name": "Python 3.6",
   "language": "python",
   "name": "python3"
  },
  "language_info": {
   "codemirror_mode": {
    "name": "ipython",
    "version": 3
   },
   "file_extension": ".py",
   "mimetype": "text/x-python",
   "name": "python",
   "nbconvert_exporter": "python",
   "pygments_lexer": "ipython3",
   "version": "3.6.9"
  }
 },
 "nbformat": 4,
 "nbformat_minor": 1
}
